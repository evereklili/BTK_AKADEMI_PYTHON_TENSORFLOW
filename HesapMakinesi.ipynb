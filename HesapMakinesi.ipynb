{
  "nbformat": 4,
  "nbformat_minor": 0,
  "metadata": {
    "colab": {
      "name": "HesapMakinesi.ipynb",
      "private_outputs": true,
      "provenance": [],
      "authorship_tag": "ABX9TyNSpHgXt/3kgIsNQrumW4HN",
      "include_colab_link": true
    },
    "kernelspec": {
      "name": "python3",
      "display_name": "Python 3"
    },
    "language_info": {
      "name": "python"
    }
  },
  "cells": [
    {
      "cell_type": "markdown",
      "metadata": {
        "id": "view-in-github",
        "colab_type": "text"
      },
      "source": [
        "<a href=\"https://colab.research.google.com/github/evereklili/BTK_AKADEMI_PYTHON_TENSORFLOW/blob/main/HesapMakinesi.ipynb\" target=\"_parent\"><img src=\"https://colab.research.google.com/assets/colab-badge.svg\" alt=\"Open In Colab\"/></a>"
      ]
    },
    {
      "cell_type": "markdown",
      "source": [
        "#15 Hesap Makinesi \n"
      ],
      "metadata": {
        "id": "xqZD3TnkVcKp"
      }
    },
    {
      "cell_type": "code",
      "source": [
        "#fonksiyon içinde yazmayı düşünüyorum. fonksiyon bilgilerimiz de pratik etmiş oluruz. \n",
        "def hesapla(gelenSayi1,gelenSayi2, action):\n",
        "  if(action==\"+\"):\n",
        "    return ((str(gelenSayi1)+\" + \" +str(gelenSayi1)+  \" = \"+ str(gelenSayi1+gelenSayi2)))\n",
        "  if(action=='-'):\n",
        "    return ((str(gelenSayi1)+\" + \" +str(gelenSayi1)+  \" = \"+ str(gelenSayi1-gelenSayi2)))\n",
        "  if(action==\"*\"):\n",
        "    return ((str(gelenSayi1)+\" + \" +str(gelenSayi1)+  \" = \"+ str(gelenSayi1*gelenSayi2)))\n",
        "  if(action==\"/\"):\n",
        "    if(gelenSayi1==0 or gelenSayi2==0):\n",
        "       return 0;\n",
        "    return ((str(gelenSayi1)+\" + \" +str(gelenSayi1)+  \" = \"+ str(gelenSayi1/gelenSayi2)))\n",
        "    \n",
        "a=int(input(\"ilk sayiyi giriniz:\"))\n",
        "b=int(input(\"ikinci sayiyi giriniz:\"))\n",
        "islem=input(\"İşlemi seçiniz: +, -, * /\")\n",
        "print(\"girilen işleminiz:\",islem)\n",
        "print(\"ilk girdiğiniz sayi:\",a)\n",
        "print(\"ikinci girdiğiniz sayi:\",b)\n",
        "\n",
        "\n",
        "print(hesapla(a,b,islem))\n",
        "  \n"
      ],
      "metadata": {
        "id": "lx6sCS4zVgNI"
      },
      "execution_count": null,
      "outputs": []
    },
    {
      "cell_type": "code",
      "source": [
        ""
      ],
      "metadata": {
        "id": "413iZ1mjWIBv"
      },
      "execution_count": null,
      "outputs": []
    },
    {
      "cell_type": "code",
      "source": [
        ""
      ],
      "metadata": {
        "id": "Yt_lMk4ueCQD"
      },
      "execution_count": null,
      "outputs": []
    }
  ]
}